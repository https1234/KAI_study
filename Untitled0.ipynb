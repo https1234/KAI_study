{
  "nbformat": 4,
  "nbformat_minor": 0,
  "metadata": {
    "colab": {
      "name": "Untitled0.ipynb",
      "version": "0.3.2",
      "provenance": [],
      "include_colab_link": true
    },
    "kernelspec": {
      "name": "python3",
      "display_name": "Python 3"
    }
  },
  "cells": [
    {
      "cell_type": "markdown",
      "metadata": {
        "id": "view-in-github",
        "colab_type": "text"
      },
      "source": [
        "<a href=\"https://colab.research.google.com/github/https1234/KAI_study/blob/master/Untitled0.ipynb\" target=\"_parent\"><img src=\"https://colab.research.google.com/assets/colab-badge.svg\" alt=\"Open In Colab\"/></a>"
      ]
    },
    {
      "cell_type": "code",
      "metadata": {
        "id": "dFMbqTwxBV61",
        "colab_type": "code",
        "colab": {}
      },
      "source": [
        "import tensorflow as tf\n",
        "import numpy as np\n",
        "\n",
        "input_  = 2\n",
        "hidden_ = 5\n",
        "output_ = 1\n",
        "\n",
        "data_x = np.array([[0,0],[1,0],[0,1],[1,1]])\n",
        "data_y = np.array([[0],[1],[1],[0]])\n",
        "\n",
        "X = tf.placeholder(dtype=tf.float32)\n",
        "Y = tf.placeholder(dtype=tf.float32)\n",
        "\n",
        "W1 = tf.Variable(tf.random_normal([input_,hidden_]),name='weight1')\n",
        "b1 = tf.Variable(tf.random_normal([1,hidden_]),name='bias1')\n",
        "\n",
        "W2 = tf.Variable(tf.random_normal([hidden_,output_]),name='weight2')\n",
        "b2 = tf.Variable(tf.random_normal([1,output_]),name='bias2')\n",
        "\n",
        "Layer1 = tf.nn.relu(tf.matmul(X,W1)+b1)\n",
        "y = tf.nn.relu(tf.matmul(Layer1,W2)+b2)\n",
        "\n",
        "cost = tf.reduce_mean(tf.square(Y-y))\n",
        "train = tf.train.GradientDescentOptimizer(learning_rate=0.01).minimize(cost)"
      ],
      "execution_count": 0,
      "outputs": []
    },
    {
      "cell_type": "code",
      "metadata": {
        "id": "XNHgfpC4DRKz",
        "colab_type": "code",
        "colab": {}
      },
      "source": [
        "sess = tf.Session()\n",
        "sess.run(tf.global_variables_initializer())\n",
        "\n",
        "for i in range(1000):\n",
        "  sess.run(train,feed_dict={X:data_x,Y:data_y})\n",
        "  if i%10==0:\n",
        "    print(i,sess.run(cost,feed_dict={X:data_x,Y:data_y}))\n",
        "  "
      ],
      "execution_count": 0,
      "outputs": []
    },
    {
      "cell_type": "code",
      "metadata": {
        "id": "188JCo3VGuOD",
        "colab_type": "code",
        "colab": {}
      },
      "source": [
        "print(sess.run(y,feed_dict={X:data_x,Y:data_y}))"
      ],
      "execution_count": 0,
      "outputs": []
    },
    {
      "cell_type": "code",
      "metadata": {
        "id": "hduuqw9zI-3k",
        "colab_type": "code",
        "colab": {}
      },
      "source": [
        ""
      ],
      "execution_count": 0,
      "outputs": []
    }
  ]
}